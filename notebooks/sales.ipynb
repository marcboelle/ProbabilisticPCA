{
 "cells": [
  {
   "cell_type": "code",
   "execution_count": 336,
   "metadata": {},
   "outputs": [
    {
     "name": "stdout",
     "output_type": "stream",
     "text": [
      "['age', 'sex', 'bmi', 'bp', 's1', 's2', 's3', 's4', 's5', 's6']\n"
     ]
    }
   ],
   "source": [
    "import pandas as pd\n",
    "\n",
    "from sklearn.preprocessing import StandardScaler\n",
    "from sklearn.cross_decomposition import CCA\n",
    "from sklearn.datasets import load_diabetes\n",
    "\n",
    "# Load the diabetes dataset\n",
    "data = load_diabetes()\n",
    "X = pd.DataFrame(data.data, columns=data.feature_names)# Split data into two sets: Demographic (age, sex) and medical indicators (BMI, BP, etc.)\n",
    "X1 = X[['age', 'sex']]  # Set 1: Demographic variables\n",
    "X2 = X[['bmi', 'bp', 's1', 's2', 's3', 's4', 's5', 's6']]  # Set 2: Medical variables# Standardizing the features\n",
    "scaler = StandardScaler()\n",
    "X1 = scaler.fit_transform(X1)\n",
    "X2 = scaler.fit_transform(X2)\n",
    "\n",
    "print(data.feature_names)"
   ]
  },
  {
   "cell_type": "code",
   "execution_count": 337,
   "metadata": {},
   "outputs": [],
   "source": [
    "import numpy as np\n",
    "\n",
    "nb_samples = 50\n",
    "z = np.random.randn(nb_samples, 1)\n",
    "W1 = np.random.randn(1, 10)\n",
    "W2 = np.random.randn(1, 15)\n",
    "X1 = z @ W1\n",
    "X2 = z @ W2\n",
    "X = np.concatenate((X1, X2), axis=1)\n"
   ]
  },
  {
   "cell_type": "code",
   "execution_count": 338,
   "metadata": {},
   "outputs": [
    {
     "name": "stdout",
     "output_type": "stream",
     "text": [
      "Canonical correlations:\n",
      "0.9663264951887851\n"
     ]
    }
   ],
   "source": [
    "# Create a CCA instance\n",
    "cca = CCA(n_components=1)  # We’ll find 2 canonical components for simplicity# Fit the model\n",
    "cca.fit(X1, X2)# Transform the data based on the CCA\n",
    "X1_c, X2_c = cca.transform(X1, X2)# Display the canonical correlations\n",
    "print(\"Canonical correlations:\")\n",
    "print(cca.score(X1, X2))"
   ]
  },
  {
   "cell_type": "code",
   "execution_count": 339,
   "metadata": {},
   "outputs": [
    {
     "name": "stdout",
     "output_type": "stream",
     "text": [
      "Canonical weights for X1 (demographics): [[-0.31622777]\n",
      " [ 0.31622777]\n",
      " [ 0.31622777]\n",
      " [ 0.31622777]\n",
      " [-0.31622777]\n",
      " [ 0.31622777]\n",
      " [ 0.31622777]\n",
      " [ 0.31622777]\n",
      " [ 0.31622777]\n",
      " [-0.31622777]]\n",
      "Canonical weights for X2 (medical indicators): [[-0.25819889]\n",
      " [-0.25819889]\n",
      " [ 0.25819889]\n",
      " [ 0.25819889]\n",
      " [ 0.25819889]\n",
      " [-0.25819889]\n",
      " [ 0.25819889]\n",
      " [-0.25819889]\n",
      " [ 0.25819889]\n",
      " [-0.25819889]\n",
      " [-0.25819889]\n",
      " [-0.25819889]\n",
      " [-0.25819889]\n",
      " [-0.25819889]\n",
      " [ 0.25819889]]\n"
     ]
    }
   ],
   "source": [
    "# Get the canonical weights for each variable\n",
    "print(\"Canonical weights for X1 (demographics):\", cca.x_weights_)\n",
    "print(\"Canonical weights for X2 (medical indicators):\", cca.y_weights_)"
   ]
  },
  {
   "cell_type": "code",
   "execution_count": 340,
   "metadata": {},
   "outputs": [
    {
     "data": {
      "application/vnd.plotly.v1+json": {
       "config": {
        "plotlyServerURL": "https://plot.ly"
       },
       "data": [
        {
         "marker": {
          "color": "blue",
          "size": 10
         },
         "mode": "markers",
         "name": "Points 2D",
         "type": "scatter",
         "x": [
          -2.5052165534605475,
          -0.17350044082352586,
          -2.9590114461689154,
          0.42758405411755596,
          1.2353359165935873,
          3.0027188427121905,
          0.7497336439191922,
          0.24752618475614035,
          -2.2299320102279667,
          -3.422680372807945,
          2.407949212115602,
          0.6984807477925552,
          -1.155837204969382,
          -2.432007737187457,
          3.2747640290477147,
          9.353530951832399,
          -5.961221911129609,
          1.106567870934786,
          0.634010109895429,
          -1.0335245218747942,
          3.4847239048583134,
          -1.6529140254528472,
          -2.562561370853259,
          7.2510728944951595,
          -0.4553285309248627,
          -2.9614473447484606,
          0.07741293578854545,
          1.0076987077631794,
          1.4799919655403184,
          2.150831409678718,
          1.1532949920861535,
          -4.975769458309596,
          -3.1718976938453807,
          -6.14093179905171,
          -2.711168821023294,
          -2.199825359471979,
          0.9278219333563131,
          2.005115007797346,
          -4.935916073286322,
          -4.395610839730569,
          3.6533048426877635,
          -2.4910778304453984,
          2.9588557928298433,
          0.8011220264223988,
          1.6709870493055692,
          5.743634288657178,
          0.86990538098974,
          0.7571759157924203,
          -0.7910670170218723,
          2.187297751049585
         ],
         "y": [
          -3.068251125576118,
          -0.21249377508279327,
          -3.6240340930843877,
          0.5236813773693003,
          1.512971328293824,
          3.677564502842642,
          0.9182324352997584,
          0.3031564253152097,
          -2.7310977930786384,
          -4.1919102330091835,
          2.949123448110001,
          0.8554607136246938,
          -1.4156056889498394,
          -2.978589003305001,
          4.010750449593845,
          11.455689062659221,
          -7.300975962883157,
          1.3552633247740888,
          0.7765006305048444,
          -1.2658038576235981,
          4.2678977306908905,
          -2.0243979755246007,
          -3.1384838965787285,
          8.88071433961951,
          -0.5576612830484922,
          -3.6270174473769163,
          0.09481109608638738,
          1.2341738242408855,
          1.8126125694962623,
          2.634219738231952,
          1.4124921267591202,
          -6.094048125291584,
          -3.8847654331159394,
          -7.521074726454106,
          -3.320490109025061,
          -2.6942248269704656,
          1.1363451544427732,
          2.4557543223501055,
          -6.045237896376732,
          -5.383501832593291,
          4.474366369711894,
          -3.050934797075288,
          3.623843457455644,
          0.9811700932196701,
          2.0465328187987595,
          7.034486638181757,
          1.0654121539631305,
          0.9273473196079965,
          -0.9688552720245808,
          2.6788817028043357
         ]
        }
       ],
       "layout": {
        "template": {
         "data": {
          "bar": [
           {
            "error_x": {
             "color": "#2a3f5f"
            },
            "error_y": {
             "color": "#2a3f5f"
            },
            "marker": {
             "line": {
              "color": "#E5ECF6",
              "width": 0.5
             },
             "pattern": {
              "fillmode": "overlay",
              "size": 10,
              "solidity": 0.2
             }
            },
            "type": "bar"
           }
          ],
          "barpolar": [
           {
            "marker": {
             "line": {
              "color": "#E5ECF6",
              "width": 0.5
             },
             "pattern": {
              "fillmode": "overlay",
              "size": 10,
              "solidity": 0.2
             }
            },
            "type": "barpolar"
           }
          ],
          "carpet": [
           {
            "aaxis": {
             "endlinecolor": "#2a3f5f",
             "gridcolor": "white",
             "linecolor": "white",
             "minorgridcolor": "white",
             "startlinecolor": "#2a3f5f"
            },
            "baxis": {
             "endlinecolor": "#2a3f5f",
             "gridcolor": "white",
             "linecolor": "white",
             "minorgridcolor": "white",
             "startlinecolor": "#2a3f5f"
            },
            "type": "carpet"
           }
          ],
          "choropleth": [
           {
            "colorbar": {
             "outlinewidth": 0,
             "ticks": ""
            },
            "type": "choropleth"
           }
          ],
          "contour": [
           {
            "colorbar": {
             "outlinewidth": 0,
             "ticks": ""
            },
            "colorscale": [
             [
              0,
              "#0d0887"
             ],
             [
              0.1111111111111111,
              "#46039f"
             ],
             [
              0.2222222222222222,
              "#7201a8"
             ],
             [
              0.3333333333333333,
              "#9c179e"
             ],
             [
              0.4444444444444444,
              "#bd3786"
             ],
             [
              0.5555555555555556,
              "#d8576b"
             ],
             [
              0.6666666666666666,
              "#ed7953"
             ],
             [
              0.7777777777777778,
              "#fb9f3a"
             ],
             [
              0.8888888888888888,
              "#fdca26"
             ],
             [
              1,
              "#f0f921"
             ]
            ],
            "type": "contour"
           }
          ],
          "contourcarpet": [
           {
            "colorbar": {
             "outlinewidth": 0,
             "ticks": ""
            },
            "type": "contourcarpet"
           }
          ],
          "heatmap": [
           {
            "colorbar": {
             "outlinewidth": 0,
             "ticks": ""
            },
            "colorscale": [
             [
              0,
              "#0d0887"
             ],
             [
              0.1111111111111111,
              "#46039f"
             ],
             [
              0.2222222222222222,
              "#7201a8"
             ],
             [
              0.3333333333333333,
              "#9c179e"
             ],
             [
              0.4444444444444444,
              "#bd3786"
             ],
             [
              0.5555555555555556,
              "#d8576b"
             ],
             [
              0.6666666666666666,
              "#ed7953"
             ],
             [
              0.7777777777777778,
              "#fb9f3a"
             ],
             [
              0.8888888888888888,
              "#fdca26"
             ],
             [
              1,
              "#f0f921"
             ]
            ],
            "type": "heatmap"
           }
          ],
          "heatmapgl": [
           {
            "colorbar": {
             "outlinewidth": 0,
             "ticks": ""
            },
            "colorscale": [
             [
              0,
              "#0d0887"
             ],
             [
              0.1111111111111111,
              "#46039f"
             ],
             [
              0.2222222222222222,
              "#7201a8"
             ],
             [
              0.3333333333333333,
              "#9c179e"
             ],
             [
              0.4444444444444444,
              "#bd3786"
             ],
             [
              0.5555555555555556,
              "#d8576b"
             ],
             [
              0.6666666666666666,
              "#ed7953"
             ],
             [
              0.7777777777777778,
              "#fb9f3a"
             ],
             [
              0.8888888888888888,
              "#fdca26"
             ],
             [
              1,
              "#f0f921"
             ]
            ],
            "type": "heatmapgl"
           }
          ],
          "histogram": [
           {
            "marker": {
             "pattern": {
              "fillmode": "overlay",
              "size": 10,
              "solidity": 0.2
             }
            },
            "type": "histogram"
           }
          ],
          "histogram2d": [
           {
            "colorbar": {
             "outlinewidth": 0,
             "ticks": ""
            },
            "colorscale": [
             [
              0,
              "#0d0887"
             ],
             [
              0.1111111111111111,
              "#46039f"
             ],
             [
              0.2222222222222222,
              "#7201a8"
             ],
             [
              0.3333333333333333,
              "#9c179e"
             ],
             [
              0.4444444444444444,
              "#bd3786"
             ],
             [
              0.5555555555555556,
              "#d8576b"
             ],
             [
              0.6666666666666666,
              "#ed7953"
             ],
             [
              0.7777777777777778,
              "#fb9f3a"
             ],
             [
              0.8888888888888888,
              "#fdca26"
             ],
             [
              1,
              "#f0f921"
             ]
            ],
            "type": "histogram2d"
           }
          ],
          "histogram2dcontour": [
           {
            "colorbar": {
             "outlinewidth": 0,
             "ticks": ""
            },
            "colorscale": [
             [
              0,
              "#0d0887"
             ],
             [
              0.1111111111111111,
              "#46039f"
             ],
             [
              0.2222222222222222,
              "#7201a8"
             ],
             [
              0.3333333333333333,
              "#9c179e"
             ],
             [
              0.4444444444444444,
              "#bd3786"
             ],
             [
              0.5555555555555556,
              "#d8576b"
             ],
             [
              0.6666666666666666,
              "#ed7953"
             ],
             [
              0.7777777777777778,
              "#fb9f3a"
             ],
             [
              0.8888888888888888,
              "#fdca26"
             ],
             [
              1,
              "#f0f921"
             ]
            ],
            "type": "histogram2dcontour"
           }
          ],
          "mesh3d": [
           {
            "colorbar": {
             "outlinewidth": 0,
             "ticks": ""
            },
            "type": "mesh3d"
           }
          ],
          "parcoords": [
           {
            "line": {
             "colorbar": {
              "outlinewidth": 0,
              "ticks": ""
             }
            },
            "type": "parcoords"
           }
          ],
          "pie": [
           {
            "automargin": true,
            "type": "pie"
           }
          ],
          "scatter": [
           {
            "fillpattern": {
             "fillmode": "overlay",
             "size": 10,
             "solidity": 0.2
            },
            "type": "scatter"
           }
          ],
          "scatter3d": [
           {
            "line": {
             "colorbar": {
              "outlinewidth": 0,
              "ticks": ""
             }
            },
            "marker": {
             "colorbar": {
              "outlinewidth": 0,
              "ticks": ""
             }
            },
            "type": "scatter3d"
           }
          ],
          "scattercarpet": [
           {
            "marker": {
             "colorbar": {
              "outlinewidth": 0,
              "ticks": ""
             }
            },
            "type": "scattercarpet"
           }
          ],
          "scattergeo": [
           {
            "marker": {
             "colorbar": {
              "outlinewidth": 0,
              "ticks": ""
             }
            },
            "type": "scattergeo"
           }
          ],
          "scattergl": [
           {
            "marker": {
             "colorbar": {
              "outlinewidth": 0,
              "ticks": ""
             }
            },
            "type": "scattergl"
           }
          ],
          "scattermapbox": [
           {
            "marker": {
             "colorbar": {
              "outlinewidth": 0,
              "ticks": ""
             }
            },
            "type": "scattermapbox"
           }
          ],
          "scatterpolar": [
           {
            "marker": {
             "colorbar": {
              "outlinewidth": 0,
              "ticks": ""
             }
            },
            "type": "scatterpolar"
           }
          ],
          "scatterpolargl": [
           {
            "marker": {
             "colorbar": {
              "outlinewidth": 0,
              "ticks": ""
             }
            },
            "type": "scatterpolargl"
           }
          ],
          "scatterternary": [
           {
            "marker": {
             "colorbar": {
              "outlinewidth": 0,
              "ticks": ""
             }
            },
            "type": "scatterternary"
           }
          ],
          "surface": [
           {
            "colorbar": {
             "outlinewidth": 0,
             "ticks": ""
            },
            "colorscale": [
             [
              0,
              "#0d0887"
             ],
             [
              0.1111111111111111,
              "#46039f"
             ],
             [
              0.2222222222222222,
              "#7201a8"
             ],
             [
              0.3333333333333333,
              "#9c179e"
             ],
             [
              0.4444444444444444,
              "#bd3786"
             ],
             [
              0.5555555555555556,
              "#d8576b"
             ],
             [
              0.6666666666666666,
              "#ed7953"
             ],
             [
              0.7777777777777778,
              "#fb9f3a"
             ],
             [
              0.8888888888888888,
              "#fdca26"
             ],
             [
              1,
              "#f0f921"
             ]
            ],
            "type": "surface"
           }
          ],
          "table": [
           {
            "cells": {
             "fill": {
              "color": "#EBF0F8"
             },
             "line": {
              "color": "white"
             }
            },
            "header": {
             "fill": {
              "color": "#C8D4E3"
             },
             "line": {
              "color": "white"
             }
            },
            "type": "table"
           }
          ]
         },
         "layout": {
          "annotationdefaults": {
           "arrowcolor": "#2a3f5f",
           "arrowhead": 0,
           "arrowwidth": 1
          },
          "autotypenumbers": "strict",
          "coloraxis": {
           "colorbar": {
            "outlinewidth": 0,
            "ticks": ""
           }
          },
          "colorscale": {
           "diverging": [
            [
             0,
             "#8e0152"
            ],
            [
             0.1,
             "#c51b7d"
            ],
            [
             0.2,
             "#de77ae"
            ],
            [
             0.3,
             "#f1b6da"
            ],
            [
             0.4,
             "#fde0ef"
            ],
            [
             0.5,
             "#f7f7f7"
            ],
            [
             0.6,
             "#e6f5d0"
            ],
            [
             0.7,
             "#b8e186"
            ],
            [
             0.8,
             "#7fbc41"
            ],
            [
             0.9,
             "#4d9221"
            ],
            [
             1,
             "#276419"
            ]
           ],
           "sequential": [
            [
             0,
             "#0d0887"
            ],
            [
             0.1111111111111111,
             "#46039f"
            ],
            [
             0.2222222222222222,
             "#7201a8"
            ],
            [
             0.3333333333333333,
             "#9c179e"
            ],
            [
             0.4444444444444444,
             "#bd3786"
            ],
            [
             0.5555555555555556,
             "#d8576b"
            ],
            [
             0.6666666666666666,
             "#ed7953"
            ],
            [
             0.7777777777777778,
             "#fb9f3a"
            ],
            [
             0.8888888888888888,
             "#fdca26"
            ],
            [
             1,
             "#f0f921"
            ]
           ],
           "sequentialminus": [
            [
             0,
             "#0d0887"
            ],
            [
             0.1111111111111111,
             "#46039f"
            ],
            [
             0.2222222222222222,
             "#7201a8"
            ],
            [
             0.3333333333333333,
             "#9c179e"
            ],
            [
             0.4444444444444444,
             "#bd3786"
            ],
            [
             0.5555555555555556,
             "#d8576b"
            ],
            [
             0.6666666666666666,
             "#ed7953"
            ],
            [
             0.7777777777777778,
             "#fb9f3a"
            ],
            [
             0.8888888888888888,
             "#fdca26"
            ],
            [
             1,
             "#f0f921"
            ]
           ]
          },
          "colorway": [
           "#636efa",
           "#EF553B",
           "#00cc96",
           "#ab63fa",
           "#FFA15A",
           "#19d3f3",
           "#FF6692",
           "#B6E880",
           "#FF97FF",
           "#FECB52"
          ],
          "font": {
           "color": "#2a3f5f"
          },
          "geo": {
           "bgcolor": "white",
           "lakecolor": "white",
           "landcolor": "#E5ECF6",
           "showlakes": true,
           "showland": true,
           "subunitcolor": "white"
          },
          "hoverlabel": {
           "align": "left"
          },
          "hovermode": "closest",
          "mapbox": {
           "style": "light"
          },
          "paper_bgcolor": "white",
          "plot_bgcolor": "#E5ECF6",
          "polar": {
           "angularaxis": {
            "gridcolor": "white",
            "linecolor": "white",
            "ticks": ""
           },
           "bgcolor": "#E5ECF6",
           "radialaxis": {
            "gridcolor": "white",
            "linecolor": "white",
            "ticks": ""
           }
          },
          "scene": {
           "xaxis": {
            "backgroundcolor": "#E5ECF6",
            "gridcolor": "white",
            "gridwidth": 2,
            "linecolor": "white",
            "showbackground": true,
            "ticks": "",
            "zerolinecolor": "white"
           },
           "yaxis": {
            "backgroundcolor": "#E5ECF6",
            "gridcolor": "white",
            "gridwidth": 2,
            "linecolor": "white",
            "showbackground": true,
            "ticks": "",
            "zerolinecolor": "white"
           },
           "zaxis": {
            "backgroundcolor": "#E5ECF6",
            "gridcolor": "white",
            "gridwidth": 2,
            "linecolor": "white",
            "showbackground": true,
            "ticks": "",
            "zerolinecolor": "white"
           }
          },
          "shapedefaults": {
           "line": {
            "color": "#2a3f5f"
           }
          },
          "ternary": {
           "aaxis": {
            "gridcolor": "white",
            "linecolor": "white",
            "ticks": ""
           },
           "baxis": {
            "gridcolor": "white",
            "linecolor": "white",
            "ticks": ""
           },
           "bgcolor": "#E5ECF6",
           "caxis": {
            "gridcolor": "white",
            "linecolor": "white",
            "ticks": ""
           }
          },
          "title": {
           "x": 0.05
          },
          "xaxis": {
           "automargin": true,
           "gridcolor": "white",
           "linecolor": "white",
           "ticks": "",
           "title": {
            "standoff": 15
           },
           "zerolinecolor": "white",
           "zerolinewidth": 2
          },
          "yaxis": {
           "automargin": true,
           "gridcolor": "white",
           "linecolor": "white",
           "ticks": "",
           "title": {
            "standoff": 15
           },
           "zerolinecolor": "white",
           "zerolinewidth": 2
          }
         }
        },
        "xaxis": {
         "title": {
          "text": "Projection of X1"
         }
        },
        "yaxis": {
         "title": {
          "text": "Projection of X2"
         }
        }
       }
      }
     },
     "metadata": {},
     "output_type": "display_data"
    }
   ],
   "source": [
    "import plotly.graph_objects as go\n",
    "\n",
    "fig = go.Figure()\n",
    "fig.add_trace(go.Scatter(\n",
    "    x=X1_c[:, 0],\n",
    "    y=X2_c[:, 0],\n",
    "    mode='markers',\n",
    "    marker=dict(size=10, color='blue'), \n",
    "    name='Points 2D'\n",
    "))\n",
    "\n",
    "fig.update_layout(\n",
    "    xaxis_title = \"Projection of X1\",\n",
    "    yaxis_title = \"Projection of X2\"\n",
    ")\n",
    "\n",
    "\n",
    "fig.show()"
   ]
  },
  {
   "cell_type": "code",
   "execution_count": 341,
   "metadata": {},
   "outputs": [
    {
     "name": "stderr",
     "output_type": "stream",
     "text": [
      " 20%|██        | 2/10 [00:00<00:00, 77.92it/s]\n"
     ]
    },
    {
     "ename": "LinAlgError",
     "evalue": "Singular matrix",
     "output_type": "error",
     "traceback": [
      "\u001b[1;31m---------------------------------------------------------------------------\u001b[0m",
      "\u001b[1;31mLinAlgError\u001b[0m                               Traceback (most recent call last)",
      "Cell \u001b[1;32mIn[341], line 16\u001b[0m\n\u001b[0;32m     13\u001b[0m \u001b[38;5;66;03m#W_0 = np.zeros((d_A+d_B, 1))\u001b[39;00m\n\u001b[0;32m     15\u001b[0m phi_0 \u001b[38;5;241m=\u001b[39m np\u001b[38;5;241m.\u001b[39meye(d_A\u001b[38;5;241m+\u001b[39md_B)\n\u001b[1;32m---> 16\u001b[0m W, phi, M \u001b[38;5;241m=\u001b[39m \u001b[43mEM_for_PCCA\u001b[49m\u001b[43m(\u001b[49m\u001b[43mX\u001b[49m\u001b[43m,\u001b[49m\u001b[43m \u001b[49m\u001b[43md_A\u001b[49m\u001b[43m,\u001b[49m\u001b[43m \u001b[49m\u001b[43md_B\u001b[49m\u001b[43m,\u001b[49m\u001b[43m \u001b[49m\u001b[43mnb_components\u001b[49m\u001b[38;5;241;43m=\u001b[39;49m\u001b[38;5;241;43m1\u001b[39;49m\u001b[43m,\u001b[49m\u001b[43m \u001b[49m\u001b[43mW_0\u001b[49m\u001b[38;5;241;43m=\u001b[39;49m\u001b[43mW_0\u001b[49m\u001b[43m,\u001b[49m\u001b[43m \u001b[49m\u001b[43mphi_0\u001b[49m\u001b[38;5;241;43m=\u001b[39;49m\u001b[43mphi_0\u001b[49m\u001b[43m,\u001b[49m\u001b[43m \u001b[49m\u001b[43mmax_iter\u001b[49m\u001b[43m \u001b[49m\u001b[38;5;241;43m=\u001b[39;49m\u001b[43m \u001b[49m\u001b[38;5;241;43m10\u001b[39;49m\u001b[43m)\u001b[49m\n",
      "File \u001b[1;32mc:\\Users\\marcb\\Documents\\MVA\\ProbabilisticGraphicalModels\\ProbabilisticPCA\\notebooks\\..\\code\\CCA.py:30\u001b[0m, in \u001b[0;36mEM_for_PCCA\u001b[1;34m(X, d_A, d_B, nb_components, W_0, phi_0, max_iter, plot_time)\u001b[0m\n\u001b[0;32m     25\u001b[0m W, phi \u001b[38;5;241m=\u001b[39m W_0, phi_0\n\u001b[0;32m     28\u001b[0m \u001b[38;5;28;01mfor\u001b[39;00m i \u001b[38;5;129;01min\u001b[39;00m tqdm(\u001b[38;5;28mrange\u001b[39m(max_iter)):\n\u001b[0;32m     29\u001b[0m     \u001b[38;5;66;03m#inv_phi = np.linalg.solve(phi, np.eye(d))\u001b[39;00m\n\u001b[1;32m---> 30\u001b[0m     inv_phi \u001b[38;5;241m=\u001b[39m \u001b[43mnp\u001b[49m\u001b[38;5;241;43m.\u001b[39;49m\u001b[43mlinalg\u001b[49m\u001b[38;5;241;43m.\u001b[39;49m\u001b[43minv\u001b[49m\u001b[43m(\u001b[49m\u001b[43mphi\u001b[49m\u001b[43m)\u001b[49m\n\u001b[0;32m     31\u001b[0m     M \u001b[38;5;241m=\u001b[39m np\u001b[38;5;241m.\u001b[39mlinalg\u001b[38;5;241m.\u001b[39msolve(np\u001b[38;5;241m.\u001b[39meye(nb_components) \u001b[38;5;241m+\u001b[39m W\u001b[38;5;241m.\u001b[39mT \u001b[38;5;241m@\u001b[39m inv_phi \u001b[38;5;241m@\u001b[39m W, np\u001b[38;5;241m.\u001b[39meye(nb_components))\n\u001b[0;32m     35\u001b[0m     W_next \u001b[38;5;241m=\u001b[39m sigma \u001b[38;5;241m@\u001b[39m inv_phi \u001b[38;5;241m@\u001b[39m W \u001b[38;5;241m@\u001b[39m M \u001b[38;5;241m@\u001b[39m np\u001b[38;5;241m.\u001b[39mlinalg\u001b[38;5;241m.\u001b[39minv(M \u001b[38;5;241m+\u001b[39m M \u001b[38;5;241m@\u001b[39m W\u001b[38;5;241m.\u001b[39mT \u001b[38;5;241m@\u001b[39m inv_phi \u001b[38;5;241m@\u001b[39m sigma \u001b[38;5;241m@\u001b[39m inv_phi \u001b[38;5;241m@\u001b[39m W \u001b[38;5;241m@\u001b[39m M)\n",
      "File \u001b[1;32m~\\AppData\\Local\\Packages\\PythonSoftwareFoundation.Python.3.12_qbz5n2kfra8p0\\LocalCache\\local-packages\\Python312\\site-packages\\numpy\\linalg\\linalg.py:561\u001b[0m, in \u001b[0;36minv\u001b[1;34m(a)\u001b[0m\n\u001b[0;32m    559\u001b[0m signature \u001b[38;5;241m=\u001b[39m \u001b[38;5;124m'\u001b[39m\u001b[38;5;124mD->D\u001b[39m\u001b[38;5;124m'\u001b[39m \u001b[38;5;28;01mif\u001b[39;00m isComplexType(t) \u001b[38;5;28;01melse\u001b[39;00m \u001b[38;5;124m'\u001b[39m\u001b[38;5;124md->d\u001b[39m\u001b[38;5;124m'\u001b[39m\n\u001b[0;32m    560\u001b[0m extobj \u001b[38;5;241m=\u001b[39m get_linalg_error_extobj(_raise_linalgerror_singular)\n\u001b[1;32m--> 561\u001b[0m ainv \u001b[38;5;241m=\u001b[39m \u001b[43m_umath_linalg\u001b[49m\u001b[38;5;241;43m.\u001b[39;49m\u001b[43minv\u001b[49m\u001b[43m(\u001b[49m\u001b[43ma\u001b[49m\u001b[43m,\u001b[49m\u001b[43m \u001b[49m\u001b[43msignature\u001b[49m\u001b[38;5;241;43m=\u001b[39;49m\u001b[43msignature\u001b[49m\u001b[43m,\u001b[49m\u001b[43m \u001b[49m\u001b[43mextobj\u001b[49m\u001b[38;5;241;43m=\u001b[39;49m\u001b[43mextobj\u001b[49m\u001b[43m)\u001b[49m\n\u001b[0;32m    562\u001b[0m \u001b[38;5;28;01mreturn\u001b[39;00m wrap(ainv\u001b[38;5;241m.\u001b[39mastype(result_t, copy\u001b[38;5;241m=\u001b[39m\u001b[38;5;28;01mFalse\u001b[39;00m))\n",
      "File \u001b[1;32m~\\AppData\\Local\\Packages\\PythonSoftwareFoundation.Python.3.12_qbz5n2kfra8p0\\LocalCache\\local-packages\\Python312\\site-packages\\numpy\\linalg\\linalg.py:112\u001b[0m, in \u001b[0;36m_raise_linalgerror_singular\u001b[1;34m(err, flag)\u001b[0m\n\u001b[0;32m    111\u001b[0m \u001b[38;5;28;01mdef\u001b[39;00m \u001b[38;5;21m_raise_linalgerror_singular\u001b[39m(err, flag):\n\u001b[1;32m--> 112\u001b[0m     \u001b[38;5;28;01mraise\u001b[39;00m LinAlgError(\u001b[38;5;124m\"\u001b[39m\u001b[38;5;124mSingular matrix\u001b[39m\u001b[38;5;124m\"\u001b[39m)\n",
      "\u001b[1;31mLinAlgError\u001b[0m: Singular matrix"
     ]
    }
   ],
   "source": [
    "import os\n",
    "import sys\n",
    "\n",
    "notebook_dir = os.path.dirname(os.path.abspath(\"__file__\"))\n",
    "src_path = os.path.join(notebook_dir, \"..\", \"code\")\n",
    "if src_path not in sys.path:\n",
    "    sys.path.append(src_path)\n",
    "\n",
    "from CCA import EM_for_PCCA\n",
    "d_A, d_B = 10, 15\n",
    "#W_0 = np.random.randn(d_A+d_B, 1)\n",
    "W_0 = np.random.rand(d_A+d_B, 1)\n",
    "#W_0 = np.zeros((d_A+d_B, 1))\n",
    "\n",
    "phi_0 = np.eye(d_A+d_B)\n",
    "W, phi, M = EM_for_PCCA(X, d_A, d_B, nb_components=1, W_0=W_0, phi_0=phi_0, max_iter = 10)"
   ]
  },
  {
   "cell_type": "code",
   "execution_count": 308,
   "metadata": {},
   "outputs": [
    {
     "name": "stdout",
     "output_type": "stream",
     "text": [
      "[[0.94231466]\n",
      " [0.24733533]\n",
      " [0.42362313]\n",
      " [0.54122073]\n",
      " [0.58901068]\n",
      " [0.77422378]\n",
      " [0.87234321]\n",
      " [0.87990065]\n",
      " [0.08174275]\n",
      " [0.41122548]\n",
      " [0.40867269]\n",
      " [0.69837081]\n",
      " [0.12192993]\n",
      " [0.26621849]\n",
      " [0.35925725]\n",
      " [0.62372191]\n",
      " [0.48923138]\n",
      " [0.44235728]\n",
      " [0.80245903]\n",
      " [0.34900936]\n",
      " [0.07050456]\n",
      " [0.03260166]\n",
      " [0.43288169]\n",
      " [0.88870478]\n",
      " [0.74774318]]\n",
      "[[ 1.19389444]\n",
      " [-0.06092274]\n",
      " [-0.23375943]\n",
      " [ 6.71786575]\n",
      " [-2.21827297]\n",
      " [ 0.65890052]\n",
      " [-2.02812347]\n",
      " [-3.99960527]\n",
      " [ 0.11734397]\n",
      " [ 3.76683712]\n",
      " [ 3.33618823]\n",
      " [-0.48755422]\n",
      " [-0.37161375]\n",
      " [ 1.09886313]\n",
      " [-2.18917235]\n",
      " [-3.37066685]\n",
      " [-2.54033016]\n",
      " [ 6.61059912]\n",
      " [-0.07044318]\n",
      " [ 0.44491127]\n",
      " [-0.95175125]\n",
      " [-9.3079557 ]\n",
      " [-4.77490321]\n",
      " [-0.83545552]\n",
      " [-1.24589407]]\n",
      "[[0.0736582]]\n"
     ]
    }
   ],
   "source": [
    "print(W_0)\n",
    "print(W)\n",
    "print(M)"
   ]
  },
  {
   "cell_type": "code",
   "execution_count": 309,
   "metadata": {},
   "outputs": [
    {
     "name": "stdout",
     "output_type": "stream",
     "text": [
      "[[-6.73683090e+13 -1.15198285e+15 -6.85338200e+14 ...  3.75709584e+14\n",
      "   1.64208955e+14 -6.31333413e+14]\n",
      " [-4.21200230e+14 -1.51267645e+15 -7.80735244e+14 ...  5.62047540e+14\n",
      "  -3.47599257e+14 -6.24059037e+15]\n",
      " [ 1.12344731e+14  3.61001320e+14  2.77257900e+14 ... -4.91768700e+14\n",
      "  -5.89089372e+14  2.98973829e+15]\n",
      " ...\n",
      " [ 3.60406976e+14 -2.76370705e+15 -3.71571923e+14 ... -6.54765707e+14\n",
      "  -1.83497028e+15 -1.11751059e+16]\n",
      " [-8.89808492e+14  3.73014967e+15  7.48917836e+13 ...  5.05248028e+13\n",
      "   2.48117169e+14  1.03960732e+16]\n",
      " [-2.85008056e+15  1.09128925e+15  5.08928572e+14 ... -7.23448284e+15\n",
      "  -3.70164682e+15  1.51266643e+16]]\n"
     ]
    }
   ],
   "source": [
    "cov = np.cov(X)\n",
    "print(np.linalg.inv(cov))"
   ]
  },
  {
   "cell_type": "code",
   "execution_count": 310,
   "metadata": {},
   "outputs": [],
   "source": [
    "def transform(X, M, nb_components, eps=1e-10):\n",
    "    X1 = X[:, :d_A]\n",
    "    X2 = X[:, d_A:]\n",
    "    mu_1 = np.mean(X1, axis=0)\n",
    "    mu_2 = np.mean(X2, axis=0)\n",
    "    sigma_1 = np.cov((X1-mu_1).T)\n",
    "    sigma_2 = np.cov((X2-mu_2).T)\n",
    "    eigval1, eigvec1 = np.linalg.eigh(sigma_1)\n",
    "    eigval2, eigvec2 = np.linalg.eigh(sigma_2)\n",
    "    U1 = np.diag(1/np.sqrt(eigval1 + eps)) @ eigvec1\n",
    "    U2 = np.diag(1/np.sqrt(eigval2+eps)) @ eigvec2\n",
    "    print(eigval1)\n",
    "    print(eigval2)\n",
    "    M1, M2 = M, M\n",
    "\n",
    "    proj1, proj2 = [], []\n",
    "    for i in range(X.shape[0]):\n",
    "        proj1.append(M1.T @ U1[:, :nb_components].T @ (X1[i] - mu_1))\n",
    "        proj2.append(M2.T @ U2[:, :nb_components].T @ (X2[i] - mu_2))\n",
    "\n",
    "    return proj1, proj2"
   ]
  },
  {
   "cell_type": "code",
   "execution_count": 342,
   "metadata": {},
   "outputs": [
    {
     "name": "stdout",
     "output_type": "stream",
     "text": [
      "[-2.36315125e-15 -1.80072240e-16 -4.89972733e-17 -4.80423240e-18\n",
      "  5.09005062e-19  2.06581828e-17  4.27105503e-16  9.49124541e-16\n",
      "  1.74259621e-15  1.11537197e+01]\n",
      "[-6.89971146e-16 -5.18878031e-16 -2.11954697e-16 -1.35464540e-16\n",
      " -1.03128605e-16 -2.72637615e-17 -1.09210997e-17  6.63075875e-18\n",
      "  1.04298375e-17  7.08292428e-17  1.60254187e-16  3.10920113e-16\n",
      "  5.18422857e-16  7.58005400e-16  6.14966090e+00]\n"
     ]
    },
    {
     "data": {
      "application/vnd.plotly.v1+json": {
       "config": {
        "plotlyServerURL": "https://plot.ly"
       },
       "data": [
        {
         "marker": {
          "color": "blue",
          "size": 10
         },
         "mode": "markers",
         "name": "Points 2D",
         "type": "scatter",
         "x": [
          168.04472867496952,
          11.638049598108637,
          198.4843485608908,
          -28.681451214535628,
          -82.86377025557249,
          -201.4161500385144,
          -50.29057731430976,
          -16.60354291521719,
          149.57921266517042,
          229.5862981566006,
          -161.5202372242502,
          -46.85263937975833,
          77.5311616208237,
          163.1340331703277,
          -219.6643767085534,
          -627.4154498869102,
          399.8663976745993,
          -74.22627691598427,
          -42.52808275092775,
          69.32668060869446,
          -233.74804956090156,
          110.87404342214813,
          171.89130004875005,
          -486.38692550337873,
          30.542493155550346,
          198.64774358369505,
          -5.19269911918343,
          -67.59433858053717,
          -99.2747904155467,
          -144.27330849534337,
          -77.3606352551069,
          333.7642917199373,
          212.76431636647067,
          411.92096410094746,
          181.85957948088435,
          147.55972099663177,
          -62.23637027871837,
          -134.4989545841736,
          331.09100933891386,
          294.8484552774171,
          -245.05610910497126,
          167.09633246961312,
          -198.47390765784803,
          -53.73760339389855,
          -112.08634436494503,
          -385.27107140194494,
          -58.35144810910151,
          -50.78978947061296,
          53.063134225074464,
          -146.71939501547695
         ],
         "y": [
          24.360865042085607,
          1.6871279322367059,
          28.77359180727717,
          -4.157851113556319,
          -12.012475130825806,
          -29.19860496115598,
          -7.290451634529177,
          -2.4069583816602744,
          21.6839828393895,
          33.28233422735457,
          -23.415032007320406,
          -6.7920656232154215,
          11.239425239301795,
          23.6489784426401,
          -31.843987477294377,
          -90.95425498039367,
          57.96725327491549,
          -10.76032749604542,
          -6.165149556091251,
          10.050049908978622,
          -33.885648982289695,
          16.07302787641538,
          24.91848923446969,
          -70.50983594576701,
          4.427639948470983,
          28.79727862048776,
          -0.752767691340182,
          -9.798918256784077,
          -14.391524152312513,
          -20.914804202090863,
          -11.214704619892245,
          48.38465883796471,
          30.84370951498613,
          59.71476221594821,
          26.36355634167785,
          21.3912240936736,
          -9.022192061743226,
          -19.497849809166382,
          47.99712230637215,
          42.74316417728278,
          -35.52493939391297,
          24.223379313451005,
          -28.772078225555106,
          -7.790155122901297,
          -16.24877096511932,
          -55.85141913731968,
          -8.459008286689368,
          -7.362820699973554,
          7.6923796524879435,
          -21.2694049329084
         ]
        }
       ],
       "layout": {
        "template": {
         "data": {
          "bar": [
           {
            "error_x": {
             "color": "#2a3f5f"
            },
            "error_y": {
             "color": "#2a3f5f"
            },
            "marker": {
             "line": {
              "color": "#E5ECF6",
              "width": 0.5
             },
             "pattern": {
              "fillmode": "overlay",
              "size": 10,
              "solidity": 0.2
             }
            },
            "type": "bar"
           }
          ],
          "barpolar": [
           {
            "marker": {
             "line": {
              "color": "#E5ECF6",
              "width": 0.5
             },
             "pattern": {
              "fillmode": "overlay",
              "size": 10,
              "solidity": 0.2
             }
            },
            "type": "barpolar"
           }
          ],
          "carpet": [
           {
            "aaxis": {
             "endlinecolor": "#2a3f5f",
             "gridcolor": "white",
             "linecolor": "white",
             "minorgridcolor": "white",
             "startlinecolor": "#2a3f5f"
            },
            "baxis": {
             "endlinecolor": "#2a3f5f",
             "gridcolor": "white",
             "linecolor": "white",
             "minorgridcolor": "white",
             "startlinecolor": "#2a3f5f"
            },
            "type": "carpet"
           }
          ],
          "choropleth": [
           {
            "colorbar": {
             "outlinewidth": 0,
             "ticks": ""
            },
            "type": "choropleth"
           }
          ],
          "contour": [
           {
            "colorbar": {
             "outlinewidth": 0,
             "ticks": ""
            },
            "colorscale": [
             [
              0,
              "#0d0887"
             ],
             [
              0.1111111111111111,
              "#46039f"
             ],
             [
              0.2222222222222222,
              "#7201a8"
             ],
             [
              0.3333333333333333,
              "#9c179e"
             ],
             [
              0.4444444444444444,
              "#bd3786"
             ],
             [
              0.5555555555555556,
              "#d8576b"
             ],
             [
              0.6666666666666666,
              "#ed7953"
             ],
             [
              0.7777777777777778,
              "#fb9f3a"
             ],
             [
              0.8888888888888888,
              "#fdca26"
             ],
             [
              1,
              "#f0f921"
             ]
            ],
            "type": "contour"
           }
          ],
          "contourcarpet": [
           {
            "colorbar": {
             "outlinewidth": 0,
             "ticks": ""
            },
            "type": "contourcarpet"
           }
          ],
          "heatmap": [
           {
            "colorbar": {
             "outlinewidth": 0,
             "ticks": ""
            },
            "colorscale": [
             [
              0,
              "#0d0887"
             ],
             [
              0.1111111111111111,
              "#46039f"
             ],
             [
              0.2222222222222222,
              "#7201a8"
             ],
             [
              0.3333333333333333,
              "#9c179e"
             ],
             [
              0.4444444444444444,
              "#bd3786"
             ],
             [
              0.5555555555555556,
              "#d8576b"
             ],
             [
              0.6666666666666666,
              "#ed7953"
             ],
             [
              0.7777777777777778,
              "#fb9f3a"
             ],
             [
              0.8888888888888888,
              "#fdca26"
             ],
             [
              1,
              "#f0f921"
             ]
            ],
            "type": "heatmap"
           }
          ],
          "heatmapgl": [
           {
            "colorbar": {
             "outlinewidth": 0,
             "ticks": ""
            },
            "colorscale": [
             [
              0,
              "#0d0887"
             ],
             [
              0.1111111111111111,
              "#46039f"
             ],
             [
              0.2222222222222222,
              "#7201a8"
             ],
             [
              0.3333333333333333,
              "#9c179e"
             ],
             [
              0.4444444444444444,
              "#bd3786"
             ],
             [
              0.5555555555555556,
              "#d8576b"
             ],
             [
              0.6666666666666666,
              "#ed7953"
             ],
             [
              0.7777777777777778,
              "#fb9f3a"
             ],
             [
              0.8888888888888888,
              "#fdca26"
             ],
             [
              1,
              "#f0f921"
             ]
            ],
            "type": "heatmapgl"
           }
          ],
          "histogram": [
           {
            "marker": {
             "pattern": {
              "fillmode": "overlay",
              "size": 10,
              "solidity": 0.2
             }
            },
            "type": "histogram"
           }
          ],
          "histogram2d": [
           {
            "colorbar": {
             "outlinewidth": 0,
             "ticks": ""
            },
            "colorscale": [
             [
              0,
              "#0d0887"
             ],
             [
              0.1111111111111111,
              "#46039f"
             ],
             [
              0.2222222222222222,
              "#7201a8"
             ],
             [
              0.3333333333333333,
              "#9c179e"
             ],
             [
              0.4444444444444444,
              "#bd3786"
             ],
             [
              0.5555555555555556,
              "#d8576b"
             ],
             [
              0.6666666666666666,
              "#ed7953"
             ],
             [
              0.7777777777777778,
              "#fb9f3a"
             ],
             [
              0.8888888888888888,
              "#fdca26"
             ],
             [
              1,
              "#f0f921"
             ]
            ],
            "type": "histogram2d"
           }
          ],
          "histogram2dcontour": [
           {
            "colorbar": {
             "outlinewidth": 0,
             "ticks": ""
            },
            "colorscale": [
             [
              0,
              "#0d0887"
             ],
             [
              0.1111111111111111,
              "#46039f"
             ],
             [
              0.2222222222222222,
              "#7201a8"
             ],
             [
              0.3333333333333333,
              "#9c179e"
             ],
             [
              0.4444444444444444,
              "#bd3786"
             ],
             [
              0.5555555555555556,
              "#d8576b"
             ],
             [
              0.6666666666666666,
              "#ed7953"
             ],
             [
              0.7777777777777778,
              "#fb9f3a"
             ],
             [
              0.8888888888888888,
              "#fdca26"
             ],
             [
              1,
              "#f0f921"
             ]
            ],
            "type": "histogram2dcontour"
           }
          ],
          "mesh3d": [
           {
            "colorbar": {
             "outlinewidth": 0,
             "ticks": ""
            },
            "type": "mesh3d"
           }
          ],
          "parcoords": [
           {
            "line": {
             "colorbar": {
              "outlinewidth": 0,
              "ticks": ""
             }
            },
            "type": "parcoords"
           }
          ],
          "pie": [
           {
            "automargin": true,
            "type": "pie"
           }
          ],
          "scatter": [
           {
            "fillpattern": {
             "fillmode": "overlay",
             "size": 10,
             "solidity": 0.2
            },
            "type": "scatter"
           }
          ],
          "scatter3d": [
           {
            "line": {
             "colorbar": {
              "outlinewidth": 0,
              "ticks": ""
             }
            },
            "marker": {
             "colorbar": {
              "outlinewidth": 0,
              "ticks": ""
             }
            },
            "type": "scatter3d"
           }
          ],
          "scattercarpet": [
           {
            "marker": {
             "colorbar": {
              "outlinewidth": 0,
              "ticks": ""
             }
            },
            "type": "scattercarpet"
           }
          ],
          "scattergeo": [
           {
            "marker": {
             "colorbar": {
              "outlinewidth": 0,
              "ticks": ""
             }
            },
            "type": "scattergeo"
           }
          ],
          "scattergl": [
           {
            "marker": {
             "colorbar": {
              "outlinewidth": 0,
              "ticks": ""
             }
            },
            "type": "scattergl"
           }
          ],
          "scattermapbox": [
           {
            "marker": {
             "colorbar": {
              "outlinewidth": 0,
              "ticks": ""
             }
            },
            "type": "scattermapbox"
           }
          ],
          "scatterpolar": [
           {
            "marker": {
             "colorbar": {
              "outlinewidth": 0,
              "ticks": ""
             }
            },
            "type": "scatterpolar"
           }
          ],
          "scatterpolargl": [
           {
            "marker": {
             "colorbar": {
              "outlinewidth": 0,
              "ticks": ""
             }
            },
            "type": "scatterpolargl"
           }
          ],
          "scatterternary": [
           {
            "marker": {
             "colorbar": {
              "outlinewidth": 0,
              "ticks": ""
             }
            },
            "type": "scatterternary"
           }
          ],
          "surface": [
           {
            "colorbar": {
             "outlinewidth": 0,
             "ticks": ""
            },
            "colorscale": [
             [
              0,
              "#0d0887"
             ],
             [
              0.1111111111111111,
              "#46039f"
             ],
             [
              0.2222222222222222,
              "#7201a8"
             ],
             [
              0.3333333333333333,
              "#9c179e"
             ],
             [
              0.4444444444444444,
              "#bd3786"
             ],
             [
              0.5555555555555556,
              "#d8576b"
             ],
             [
              0.6666666666666666,
              "#ed7953"
             ],
             [
              0.7777777777777778,
              "#fb9f3a"
             ],
             [
              0.8888888888888888,
              "#fdca26"
             ],
             [
              1,
              "#f0f921"
             ]
            ],
            "type": "surface"
           }
          ],
          "table": [
           {
            "cells": {
             "fill": {
              "color": "#EBF0F8"
             },
             "line": {
              "color": "white"
             }
            },
            "header": {
             "fill": {
              "color": "#C8D4E3"
             },
             "line": {
              "color": "white"
             }
            },
            "type": "table"
           }
          ]
         },
         "layout": {
          "annotationdefaults": {
           "arrowcolor": "#2a3f5f",
           "arrowhead": 0,
           "arrowwidth": 1
          },
          "autotypenumbers": "strict",
          "coloraxis": {
           "colorbar": {
            "outlinewidth": 0,
            "ticks": ""
           }
          },
          "colorscale": {
           "diverging": [
            [
             0,
             "#8e0152"
            ],
            [
             0.1,
             "#c51b7d"
            ],
            [
             0.2,
             "#de77ae"
            ],
            [
             0.3,
             "#f1b6da"
            ],
            [
             0.4,
             "#fde0ef"
            ],
            [
             0.5,
             "#f7f7f7"
            ],
            [
             0.6,
             "#e6f5d0"
            ],
            [
             0.7,
             "#b8e186"
            ],
            [
             0.8,
             "#7fbc41"
            ],
            [
             0.9,
             "#4d9221"
            ],
            [
             1,
             "#276419"
            ]
           ],
           "sequential": [
            [
             0,
             "#0d0887"
            ],
            [
             0.1111111111111111,
             "#46039f"
            ],
            [
             0.2222222222222222,
             "#7201a8"
            ],
            [
             0.3333333333333333,
             "#9c179e"
            ],
            [
             0.4444444444444444,
             "#bd3786"
            ],
            [
             0.5555555555555556,
             "#d8576b"
            ],
            [
             0.6666666666666666,
             "#ed7953"
            ],
            [
             0.7777777777777778,
             "#fb9f3a"
            ],
            [
             0.8888888888888888,
             "#fdca26"
            ],
            [
             1,
             "#f0f921"
            ]
           ],
           "sequentialminus": [
            [
             0,
             "#0d0887"
            ],
            [
             0.1111111111111111,
             "#46039f"
            ],
            [
             0.2222222222222222,
             "#7201a8"
            ],
            [
             0.3333333333333333,
             "#9c179e"
            ],
            [
             0.4444444444444444,
             "#bd3786"
            ],
            [
             0.5555555555555556,
             "#d8576b"
            ],
            [
             0.6666666666666666,
             "#ed7953"
            ],
            [
             0.7777777777777778,
             "#fb9f3a"
            ],
            [
             0.8888888888888888,
             "#fdca26"
            ],
            [
             1,
             "#f0f921"
            ]
           ]
          },
          "colorway": [
           "#636efa",
           "#EF553B",
           "#00cc96",
           "#ab63fa",
           "#FFA15A",
           "#19d3f3",
           "#FF6692",
           "#B6E880",
           "#FF97FF",
           "#FECB52"
          ],
          "font": {
           "color": "#2a3f5f"
          },
          "geo": {
           "bgcolor": "white",
           "lakecolor": "white",
           "landcolor": "#E5ECF6",
           "showlakes": true,
           "showland": true,
           "subunitcolor": "white"
          },
          "hoverlabel": {
           "align": "left"
          },
          "hovermode": "closest",
          "mapbox": {
           "style": "light"
          },
          "paper_bgcolor": "white",
          "plot_bgcolor": "#E5ECF6",
          "polar": {
           "angularaxis": {
            "gridcolor": "white",
            "linecolor": "white",
            "ticks": ""
           },
           "bgcolor": "#E5ECF6",
           "radialaxis": {
            "gridcolor": "white",
            "linecolor": "white",
            "ticks": ""
           }
          },
          "scene": {
           "xaxis": {
            "backgroundcolor": "#E5ECF6",
            "gridcolor": "white",
            "gridwidth": 2,
            "linecolor": "white",
            "showbackground": true,
            "ticks": "",
            "zerolinecolor": "white"
           },
           "yaxis": {
            "backgroundcolor": "#E5ECF6",
            "gridcolor": "white",
            "gridwidth": 2,
            "linecolor": "white",
            "showbackground": true,
            "ticks": "",
            "zerolinecolor": "white"
           },
           "zaxis": {
            "backgroundcolor": "#E5ECF6",
            "gridcolor": "white",
            "gridwidth": 2,
            "linecolor": "white",
            "showbackground": true,
            "ticks": "",
            "zerolinecolor": "white"
           }
          },
          "shapedefaults": {
           "line": {
            "color": "#2a3f5f"
           }
          },
          "ternary": {
           "aaxis": {
            "gridcolor": "white",
            "linecolor": "white",
            "ticks": ""
           },
           "baxis": {
            "gridcolor": "white",
            "linecolor": "white",
            "ticks": ""
           },
           "bgcolor": "#E5ECF6",
           "caxis": {
            "gridcolor": "white",
            "linecolor": "white",
            "ticks": ""
           }
          },
          "title": {
           "x": 0.05
          },
          "xaxis": {
           "automargin": true,
           "gridcolor": "white",
           "linecolor": "white",
           "ticks": "",
           "title": {
            "standoff": 15
           },
           "zerolinecolor": "white",
           "zerolinewidth": 2
          },
          "yaxis": {
           "automargin": true,
           "gridcolor": "white",
           "linecolor": "white",
           "ticks": "",
           "title": {
            "standoff": 15
           },
           "zerolinecolor": "white",
           "zerolinewidth": 2
          }
         }
        },
        "xaxis": {
         "title": {
          "text": "Projection of X1"
         }
        },
        "yaxis": {
         "title": {
          "text": "Projection of X2"
         }
        }
       }
      }
     },
     "metadata": {},
     "output_type": "display_data"
    }
   ],
   "source": [
    "X1_c, X2_c = transform(X, M, nb_components=1)\n",
    "X1_c = np.array(X1_c)\n",
    "X2_c = np.array(X2_c)\n",
    "\n",
    "fig = go.Figure()\n",
    "fig.add_trace(go.Scatter(\n",
    "    x=X1_c[:, 0],\n",
    "    y=X2_c[:, 0],\n",
    "    mode='markers',\n",
    "    marker=dict(size=10, color='blue'), \n",
    "    name='Points 2D'\n",
    "))\n",
    "\n",
    "fig.update_layout(\n",
    "    xaxis_title = \"Projection of X1\",\n",
    "    yaxis_title = \"Projection of X2\"\n",
    ")\n",
    "\n",
    "\n",
    "fig.show()"
   ]
  }
 ],
 "metadata": {
  "kernelspec": {
   "display_name": "Python 3",
   "language": "python",
   "name": "python3"
  },
  "language_info": {
   "codemirror_mode": {
    "name": "ipython",
    "version": 3
   },
   "file_extension": ".py",
   "mimetype": "text/x-python",
   "name": "python",
   "nbconvert_exporter": "python",
   "pygments_lexer": "ipython3",
   "version": "3.12.8"
  }
 },
 "nbformat": 4,
 "nbformat_minor": 2
}
